{
 "cells": [
  {
   "cell_type": "code",
   "execution_count": 1,
   "id": "6a2a3da2-c0c6-45d8-9745-54849b018392",
   "metadata": {},
   "outputs": [],
   "source": [
    "import numpy as np\n",
    "import matplotlib.pyplot as plt\n",
    "import scipy as sp"
   ]
  },
  {
   "cell_type": "markdown",
   "id": "7d25ff6a-f363-4fb6-890c-80480c64e5b6",
   "metadata": {},
   "source": [
    "# Differetial Equations"
   ]
  },
  {
   "cell_type": "markdown",
   "id": "c469f633-48c7-4339-9e2e-c775220157c1",
   "metadata": {},
   "source": [
    "**First Order ODEs**\n",
    "\n",
    "Air friction while falling\n",
    "\n",
    "$$ v' - \\alpha v^2 + \\beta = 0 \\hspace{10mm} v(0) = 0$$"
   ]
  },
  {
   "cell_type": "code",
   "execution_count": 2,
   "id": "42eca873-7340-4a02-869b-67164929f4de",
   "metadata": {},
   "outputs": [],
   "source": [
    "from scipy.integrate import odeint"
   ]
  },
  {
   "cell_type": "markdown",
   "id": "4241b9b2-6ed2-471b-bee6-6350ac3fade4",
   "metadata": {},
   "source": [
    "All information about differential equation"
   ]
  },
  {
   "cell_type": "code",
   "execution_count": 3,
   "id": "03f9a371-8b51-432b-bf12-1db8696d4e33",
   "metadata": {},
   "outputs": [],
   "source": [
    "def dvdt(v, t):\n",
    "    return 3*v**2 - 5"
   ]
  },
  {
   "cell_type": "code",
   "execution_count": 4,
   "id": "d8cd477f-9f9a-4118-bef1-222fd1d104ed",
   "metadata": {},
   "outputs": [],
   "source": [
    "v0 = 0"
   ]
  },
  {
   "cell_type": "markdown",
   "id": "b354b52f-a3ad-4324-8bd8-7ad3cebad0ce",
   "metadata": {},
   "source": [
    "Solve differential equation"
   ]
  },
  {
   "cell_type": "code",
   "execution_count": 5,
   "id": "420cb292-ebc2-4e01-94ed-7652fc0468e6",
   "metadata": {},
   "outputs": [],
   "source": [
    "t = np.linspace(0, 1, 100)"
   ]
  },
  {
   "cell_type": "code",
   "execution_count": 6,
   "id": "78beb13f-e276-4715-bb7a-499c2d522566",
   "metadata": {},
   "outputs": [],
   "source": [
    "sol = odeint(dvdt, v0, t)"
   ]
  },
  {
   "cell_type": "code",
   "execution_count": 7,
   "id": "61c69b73-1e3e-451f-990d-1877ae688dd9",
   "metadata": {},
   "outputs": [
    {
     "data": {
      "text/plain": [
       "array([[ 0.        ],\n",
       "       [-0.05047933],\n",
       "       [-0.10080451],\n",
       "       [-0.15082334],\n",
       "       [-0.20038726],\n",
       "       [-0.24935318],\n",
       "       [-0.29758502],\n",
       "       [-0.34495519],\n",
       "       [-0.39134576],\n",
       "       [-0.43664948],\n",
       "       [-0.48077056],\n",
       "       [-0.52362515],\n",
       "       [-0.56514164],\n",
       "       [-0.60526086],\n",
       "       [-0.6439356 ],\n",
       "       [-0.68113064],\n",
       "       [-0.71682205],\n",
       "       [-0.75099661],\n",
       "       [-0.78365109],\n",
       "       [-0.8147914 ],\n",
       "       [-0.84443176],\n",
       "       [-0.87259378],\n",
       "       [-0.89930556],\n",
       "       [-0.92460079],\n",
       "       [-0.94851787],\n",
       "       [-0.97109913],\n",
       "       [-0.99239002],\n",
       "       [-1.01243837],\n",
       "       [-1.03129376],\n",
       "       [-1.04900692],\n",
       "       [-1.06562918],\n",
       "       [-1.081212  ],\n",
       "       [-1.0958066 ],\n",
       "       [-1.10946355],\n",
       "       [-1.12223249],\n",
       "       [-1.13416195],\n",
       "       [-1.14529906],\n",
       "       [-1.15568941],\n",
       "       [-1.16537698],\n",
       "       [-1.17440397],\n",
       "       [-1.18281086],\n",
       "       [-1.19063623],\n",
       "       [-1.19791686],\n",
       "       [-1.20468768],\n",
       "       [-1.21098179],\n",
       "       [-1.21683053],\n",
       "       [-1.22226349],\n",
       "       [-1.22730856],\n",
       "       [-1.23199199],\n",
       "       [-1.23633849],\n",
       "       [-1.24037122],\n",
       "       [-1.24411192],\n",
       "       [-1.24758094],\n",
       "       [-1.25079735],\n",
       "       [-1.25377896],\n",
       "       [-1.25654241],\n",
       "       [-1.25910322],\n",
       "       [-1.2614759 ],\n",
       "       [-1.26367394],\n",
       "       [-1.26570992],\n",
       "       [-1.26759557],\n",
       "       [-1.26934179],\n",
       "       [-1.27095869],\n",
       "       [-1.27245574],\n",
       "       [-1.27384168],\n",
       "       [-1.27512464],\n",
       "       [-1.2763122 ],\n",
       "       [-1.27741137],\n",
       "       [-1.27842865],\n",
       "       [-1.27937009],\n",
       "       [-1.28024128],\n",
       "       [-1.28104744],\n",
       "       [-1.28179338],\n",
       "       [-1.28248356],\n",
       "       [-1.28312213],\n",
       "       [-1.28371292],\n",
       "       [-1.2842595 ],\n",
       "       [-1.28476514],\n",
       "       [-1.2852329 ],\n",
       "       [-1.28566562],\n",
       "       [-1.2860659 ],\n",
       "       [-1.28643616],\n",
       "       [-1.28677865],\n",
       "       [-1.28709545],\n",
       "       [-1.28738847],\n",
       "       [-1.28765951],\n",
       "       [-1.28791021],\n",
       "       [-1.28814208],\n",
       "       [-1.28835653],\n",
       "       [-1.28855487],\n",
       "       [-1.28873831],\n",
       "       [-1.28890797],\n",
       "       [-1.28906488],\n",
       "       [-1.28920999],\n",
       "       [-1.2893442 ],\n",
       "       [-1.28946833],\n",
       "       [-1.28958312],\n",
       "       [-1.28968929],\n",
       "       [-1.28978746],\n",
       "       [-1.28987826]])"
      ]
     },
     "execution_count": 7,
     "metadata": {},
     "output_type": "execute_result"
    }
   ],
   "source": [
    "sol"
   ]
  },
  {
   "cell_type": "code",
   "execution_count": 8,
   "id": "6ee536bf-8f69-40a9-90ac-9ccf8d328bb1",
   "metadata": {},
   "outputs": [],
   "source": [
    "v_sol = sol.T[0]"
   ]
  },
  {
   "cell_type": "code",
   "execution_count": 9,
   "id": "fb5a55e6-a535-423d-a47d-7daa49612d18",
   "metadata": {},
   "outputs": [
    {
     "data": {
      "text/plain": [
       "[<matplotlib.lines.Line2D at 0x16003a280>]"
      ]
     },
     "execution_count": 9,
     "metadata": {},
     "output_type": "execute_result"
    },
    {
     "data": {
      "image/png": "[encoded data removed]",
      "text/plain": [
       "<Figure size 432x288 with 1 Axes>"
      ]
     },
     "metadata": {
      "needs_background": "light"
     },
     "output_type": "display_data"
    }
   ],
   "source": [
    "plt.plot(t, v_sol)"
   ]
  },
  {
   "cell_type": "markdown",
   "id": "23f9ef1e-e1a1-4a1c-9d91-db40f0c57bd8",
   "metadata": {},
   "source": [
    "**Coupled first order ODEs**\n",
    "\n",
    "$$ y_1' = y_1 + y_2^2 + 3x \\hspace{10mm} y_1(0)=0$$\n",
    "$$ y_2' = 3y_1 + y_2^3 - \\cos(x) \\hspace{10mm} y_2(0)=0$$\n",
    "\n",
    "Letting $S=(y_1, y_2)$ we need to write a function that returns $dS/dx = (dy_1/dx, dy_2/dx)$. The function $dS/dx$ can take in $S=(y_1, y_2)$ and $x$"
   ]
  },
  {
   "cell_type": "code",
   "execution_count": 10,
   "id": "a459d8d4-c39d-4c0f-aa86-8498de4f32b5",
   "metadata": {},
   "outputs": [],
   "source": [
    "def dSdx(S, x):\n",
    "    y1, y2 = S\n",
    "    return [y1 + y2**2  + 3*x,\n",
    "           3*y1 + y2**3 - np.cos(x)]"
   ]
  },
  {
   "cell_type": "code",
   "execution_count": 11,
   "id": "4c5c923b-a971-4dae-84f7-8ad60436373b",
   "metadata": {},
   "outputs": [],
   "source": [
    "y1_0 = 0\n",
    "y2_0 = 0\n",
    "S_0 = (y1_0, y2_0)"
   ]
  },
  {
   "cell_type": "code",
   "execution_count": 12,
   "id": "12e143b0-a502-40c8-a900-86b5d9ecd090",
   "metadata": {},
   "outputs": [],
   "source": [
    "x = np.linspace(0, 1, 100)"
   ]
  },
  {
   "cell_type": "code",
   "execution_count": 13,
   "id": "b44c31b9-6283-4928-b33d-9e7906963ba8",
   "metadata": {},
   "outputs": [],
   "source": [
    "sol = odeint(dSdx, S_0, x)"
   ]
  },
  {
   "cell_type": "code",
   "execution_count": 14,
   "id": "aa88fcdf-1753-4460-b3af-734e8176a914",
   "metadata": {},
   "outputs": [
    {
     "data": {
      "text/plain": [
       "array([[ 0.00000000e+00,  0.00000000e+00],\n",
       "       [ 1.53914062e-04, -1.00992734e-02],\n",
       "       [ 6.19093356e-04, -2.01882005e-02],\n",
       "       [ 1.40076629e-03, -3.02563164e-02],\n",
       "       [ 2.50418953e-03, -4.02930766e-02],\n",
       "       [ 3.93464633e-03, -5.02878361e-02],\n",
       "       [ 5.69744401e-03, -6.02298432e-02],\n",
       "       [ 7.79789517e-03, -7.01082428e-02],\n",
       "       [ 1.02413187e-02, -7.99120712e-02],\n",
       "       [ 1.30330245e-02, -8.96302498e-02],\n",
       "       [ 1.61783065e-02, -9.92515816e-02],\n",
       "       [ 1.96824391e-02, -1.08764749e-01],\n",
       "       [ 2.35506573e-02, -1.18158303e-01],\n",
       "       [ 2.77881638e-02, -1.27420669e-01],\n",
       "       [ 3.24001125e-02, -1.36540133e-01],\n",
       "       [ 3.73915921e-02, -1.45504834e-01],\n",
       "       [ 4.27676179e-02, -1.54302762e-01],\n",
       "       [ 4.85331404e-02, -1.62921756e-01],\n",
       "       [ 5.46930282e-02, -1.71349495e-01],\n",
       "       [ 6.12520553e-02, -1.79573493e-01],\n",
       "       [ 6.82148995e-02, -1.87581095e-01],\n",
       "       [ 7.55861308e-02, -1.95359467e-01],\n",
       "       [ 8.33702071e-02, -2.02895598e-01],\n",
       "       [ 9.15714669e-02, -2.10176290e-01],\n",
       "       [ 1.00194121e-01, -2.17188157e-01],\n",
       "       [ 1.09242251e-01, -2.23917621e-01],\n",
       "       [ 1.18719801e-01, -2.30350906e-01],\n",
       "       [ 1.28630571e-01, -2.36474041e-01],\n",
       "       [ 1.38978219e-01, -2.42272857e-01],\n",
       "       [ 1.49766252e-01, -2.47732981e-01],\n",
       "       [ 1.60998020e-01, -2.52839835e-01],\n",
       "       [ 1.72676732e-01, -2.57578659e-01],\n",
       "       [ 1.84805434e-01, -2.61934483e-01],\n",
       "       [ 1.97387014e-01, -2.65892141e-01],\n",
       "       [ 2.10424222e-01, -2.69436297e-01],\n",
       "       [ 2.23919648e-01, -2.72551418e-01],\n",
       "       [ 2.37875730e-01, -2.75221791e-01],\n",
       "       [ 2.52294784e-01, -2.77431559e-01],\n",
       "       [ 2.67178978e-01, -2.79164693e-01],\n",
       "       [ 2.82530347e-01, -2.80405012e-01],\n",
       "       [ 2.98350829e-01, -2.81136222e-01],\n",
       "       [ 3.14642248e-01, -2.81341905e-01],\n",
       "       [ 3.31406342e-01, -2.81005542e-01],\n",
       "       [ 3.48644774e-01, -2.80110529e-01],\n",
       "       [ 3.66359140e-01, -2.78640187e-01],\n",
       "       [ 3.84551013e-01, -2.76577800e-01],\n",
       "       [ 4.03221942e-01, -2.73906616e-01],\n",
       "       [ 4.22373488e-01, -2.70609873e-01],\n",
       "       [ 4.42007253e-01, -2.66670823e-01],\n",
       "       [ 4.62124894e-01, -2.62072745e-01],\n",
       "       [ 4.82728181e-01, -2.56798966e-01],\n",
       "       [ 5.03819005e-01, -2.50832883e-01],\n",
       "       [ 5.25399429e-01, -2.44157971e-01],\n",
       "       [ 5.47471735e-01, -2.36757804e-01],\n",
       "       [ 5.70038442e-01, -2.28616068e-01],\n",
       "       [ 5.93102385e-01, -2.19716553e-01],\n",
       "       [ 6.16666735e-01, -2.10043183e-01],\n",
       "       [ 6.40735063e-01, -1.99579993e-01],\n",
       "       [ 6.65311401e-01, -1.88311119e-01],\n",
       "       [ 6.90400276e-01, -1.76220821e-01],\n",
       "       [ 7.16006799e-01, -1.63293405e-01],\n",
       "       [ 7.42136714e-01, -1.49513226e-01],\n",
       "       [ 7.68796463e-01, -1.34864636e-01],\n",
       "       [ 7.95993253e-01, -1.19331954e-01],\n",
       "       [ 8.23735143e-01, -1.02899359e-01],\n",
       "       [ 8.52031104e-01, -8.55508556e-02],\n",
       "       [ 8.80891112e-01, -6.72701355e-02],\n",
       "       [ 9.10326223e-01, -4.80405161e-02],\n",
       "       [ 9.40348671e-01, -2.78447548e-02],\n",
       "       [ 9.70971957e-01, -6.66492984e-03],\n",
       "       [ 1.00221095e+00,  1.55177321e-02],\n",
       "       [ 1.03408198e+00,  3.87230761e-02],\n",
       "       [ 1.06660299e+00,  6.29722272e-02],\n",
       "       [ 1.09979361e+00,  8.82878711e-02],\n",
       "       [ 1.13367532e+00,  1.14694542e-01],\n",
       "       [ 1.16827157e+00,  1.42218950e-01],\n",
       "       [ 1.20360797e+00,  1.70890394e-01],\n",
       "       [ 1.23971243e+00,  2.00741167e-01],\n",
       "       [ 1.27661538e+00,  2.31807067e-01],\n",
       "       [ 1.31434994e+00,  2.64127972e-01],\n",
       "       [ 1.35295223e+00,  2.97748502e-01],\n",
       "       [ 1.39246158e+00,  3.32718734e-01],\n",
       "       [ 1.43292087e+00,  3.69095107e-01],\n",
       "       [ 1.47437687e+00,  4.06941417e-01],\n",
       "       [ 1.51688069e+00,  4.46329999e-01],\n",
       "       [ 1.56048820e+00,  4.87343105e-01],\n",
       "       [ 1.60526063e+00,  5.30074560e-01],\n",
       "       [ 1.65126523e+00,  5.74631731e-01],\n",
       "       [ 1.69857604e+00,  6.21137874e-01],\n",
       "       [ 1.74727479e+00,  6.69734974e-01],\n",
       "       [ 1.79745207e+00,  7.20587249e-01],\n",
       "       [ 1.84920864e+00,  7.73885430e-01],\n",
       "       [ 1.90265708e+00,  8.29852098e-01],\n",
       "       [ 1.95792385e+00,  8.88748463e-01],\n",
       "       [ 2.01515175e+00,  9.50882831e-01],\n",
       "       [ 2.07450310e+00,  1.01662163e+00],\n",
       "       [ 2.13616376e+00,  1.08640368e+00],\n",
       "       [ 2.20034823e+00,  1.16075924e+00],\n",
       "       [ 2.26730636e+00,  1.24033522e+00],\n",
       "       [ 2.33733216e+00,  1.32592999e+00]])"
      ]
     },
     "execution_count": 14,
     "metadata": {},
     "output_type": "execute_result"
    }
   ],
   "source": [
    "sol"
   ]
  },
  {
   "cell_type": "code",
   "execution_count": 15,
   "id": "6987a5f3-a619-4618-a05c-4c54589779fb",
   "metadata": {},
   "outputs": [],
   "source": [
    "y1_sol = sol.T[0]\n",
    "y2_sol = sol.T[1]"
   ]
  },
  {
   "cell_type": "code",
   "execution_count": 16,
   "id": "ad3979d6-3934-406e-ad37-9f33a408b9fb",
   "metadata": {},
   "outputs": [
    {
     "data": {
      "text/plain": [
       "[<matplotlib.lines.Line2D at 0x1601e3dc0>]"
      ]
     },
     "execution_count": 16,
     "metadata": {},
     "output_type": "execute_result"
    },
    {
     "data": {
      "image/png": "[encoded data removed]",
      "text/plain": [
       "<Figure size 432x288 with 1 Axes>"
      ]
     },
     "metadata": {
      "needs_background": "light"
     },
     "output_type": "display_data"
    }
   ],
   "source": [
    "plt.plot(x, y1_sol)\n",
    "plt.plot(x, y2_sol)"
   ]
  },
  {
   "cell_type": "markdown",
   "id": "a6574a69-0597-468d-bf71-d116718e8a91",
   "metadata": {},
   "source": [
    "**Second Order ODEs**\n",
    "\n",
    "Equation for a pendulum\n",
    "\n",
    "$$\\theta'' - \\sin(\\theta) = 0$$\n",
    "\n",
    "Scipy can only solve coupled first order ODEs, but **any second order ODE can be turned into two coupled first order ODEs**. The same thing goes for higher order ODEs. \n",
    "\n",
    "Define $\\omega = d\\theta/dt$ so that one has the following coupled ODEs\n",
    "\n",
    "$$d \\omega / dt = \\sin(\\theta)$$\n",
    "$$d \\theta / dt = \\omega $$\n",
    "\n",
    "Let $S = (\\theta, \\omega)$"
   ]
  },
  {
   "cell_type": "code",
   "execution_count": 17,
   "id": "9eac950a-6d3a-47fa-b52c-77cafac58e52",
   "metadata": {},
   "outputs": [],
   "source": [
    "def dSdt(S, t):\n",
    "    theta, omega = S\n",
    "    return [omega,\n",
    "           np.sin(theta)]"
   ]
  },
  {
   "cell_type": "code",
   "execution_count": 18,
   "id": "05b81136-a578-43c2-b574-4fc8fd88bfc1",
   "metadata": {},
   "outputs": [],
   "source": [
    "theta0 = np.pi/4\n",
    "omega0 = 0\n",
    "\n",
    "S0 = (theta0, omega0)"
   ]
  },
  {
   "cell_type": "code",
   "execution_count": 19,
   "id": "b086a452-8e99-4fe0-9999-7902882c4ecd",
   "metadata": {},
   "outputs": [],
   "source": [
    "t = np.linspace(0, 20, 100)"
   ]
  },
  {
   "cell_type": "code",
   "execution_count": 20,
   "id": "cb9be1e9-dce9-478b-a744-4ec360d1a00b",
   "metadata": {},
   "outputs": [],
   "source": [
    "sol = odeint(dSdt, S0, t)\n",
    "theta, omega = sol.T"
   ]
  },
  {
   "cell_type": "code",
   "execution_count": 21,
   "id": "4c168a89-2f12-4230-8c92-3b68fc5119e0",
   "metadata": {},
   "outputs": [
    {
     "data": {
      "image/png": "[encoded data removed]",
      "text/plain": [
       "<Figure size 432x288 with 1 Axes>"
      ]
     },
     "metadata": {
      "needs_background": "light"
     },
     "output_type": "display_data"
    }
   ],
   "source": [
    "plt.plot(t, theta)\n",
    "plt.show()"
   ]
  },
  {
   "cell_type": "markdown",
   "id": "24e80bcc-ca31-4b72-831b-a511a6aa669f",
   "metadata": {},
   "source": [
    "# Fourier Transforms"
   ]
  },
  {
   "cell_type": "markdown",
   "id": "4fb45231-7c3e-4792-bff8-271ebbbf7fc3",
   "metadata": {},
   "source": [
    "The discrete Fourier transform is defined as\n",
    "\n",
    "$$y[k] = \\sum_{n=0}^{N-1} e^{-2 \\pi i n (k / N)} x[n] $$\n",
    "\n",
    "* $k/N$ represents a specific frequency (dimensionless)\n",
    "* can be converted to a frequency (Hz) if you know the spacing in $x$"
   ]
  },
  {
   "cell_type": "code",
   "execution_count": 22,
   "id": "c83f3c45-a090-45a5-8207-c8253635152c",
   "metadata": {},
   "outputs": [],
   "source": [
    "x = np.linspace(0, 10*np.pi, 100)\n",
    "y = np.sin(2*np.pi*x) + np.sin(4*np.pi*x) + 0.1*np.random.randn(len(x))"
   ]
  },
  {
   "cell_type": "code",
   "execution_count": 23,
   "id": "34f1d92d-c5a2-4296-ab50-c8c2e8903865",
   "metadata": {},
   "outputs": [
    {
     "data": {
      "text/plain": [
       "[<matplotlib.lines.Line2D at 0x1602baca0>]"
      ]
     },
     "execution_count": 23,
     "metadata": {},
     "output_type": "execute_result"
    },
    {
     "data": {
      "image/png": "[encoded data removed]",
      "text/plain": [
       "<Figure size 432x288 with 1 Axes>"
      ]
     },
     "metadata": {
      "needs_background": "light"
     },
     "output_type": "display_data"
    }
   ],
   "source": [
    "plt.plot(x, y)"
   ]
  },
  {
   "cell_type": "code",
   "execution_count": 24,
   "id": "4d833f14-b822-4b8a-9c7a-60f93844d824",
   "metadata": {},
   "outputs": [],
   "source": [
    "from scipy.fft import fft, fftfreq"
   ]
  },
  {
   "cell_type": "code",
   "execution_count": 30,
   "id": "2b6e64e3-5f15-4641-b54d-d29f7752c960",
   "metadata": {},
   "outputs": [],
   "source": [
    "N = len(y)\n",
    "yf = fft(y)[:N//2]\n",
    "xf = fftfreq(N, np.diff(x)[0])[:N//2]"
   ]
  },
  {
   "cell_type": "code",
   "execution_count": 32,
   "id": "9f9785e2-b25c-451b-b97b-8f8bb181eead",
   "metadata": {},
   "outputs": [
    {
     "data": {
      "image/png": "[encoded data removed]",
      "text/plain": [
       "<Figure size 432x288 with 1 Axes>"
      ]
     },
     "metadata": {
      "needs_background": "light"
     },
     "output_type": "display_data"
    }
   ],
   "source": [
    "plt.plot(xf, np.abs(yf))\n",
    "plt.show()"
   ]
  },
  {
   "cell_type": "code",
   "execution_count": null,
   "id": "27dadd78-eeec-4633-9af7-8f6e86c35b58",
   "metadata": {},
   "outputs": [],
   "source": []
  }
 ],
 "metadata": {
  "kernelspec": {
   "display_name": "Python 3 (ipykernel)",
   "language": "python",
   "name": "python3"
  },
  "language_info": {
   "codemirror_mode": {
    "name": "ipython",
    "version": 3
   },
   "file_extension": ".py",
   "mimetype": "text/x-python",
   "name": "python",
   "nbconvert_exporter": "python",
   "pygments_lexer": "ipython3",
   "version": "3.9.7"
  }
 },
 "nbformat": 4,
 "nbformat_minor": 5
}
